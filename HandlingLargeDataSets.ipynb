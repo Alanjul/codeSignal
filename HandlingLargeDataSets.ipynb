{
 "cells": [
  {
   "cell_type": "code",
   "id": "initial_id",
   "metadata": {
    "collapsed": true,
    "ExecuteTime": {
     "end_time": "2025-03-26T20:45:48.547101Z",
     "start_time": "2025-03-26T20:45:48.514350Z"
    }
   },
   "source": [
    "import numpy as np\n",
    "import pandas as pd\n",
    "from sklearn import datasets\n",
    "import time\n",
    "\n",
    "#fetch the california housing data set\n",
    "df = datasets.fetch_california_housing()\n",
    "#convert the data into pandas data frame\n",
    "df_data = pd.DataFrame(df.data, columns=df.feature_names)\n",
    "print(df_data.head(2))\n",
    "print(\"____________\")\n",
    "\n",
    "#function to get memory usage\n",
    "def get_memory_usage(df1):\n",
    "    bytes = df1.memory_usage(deep=True).sum()\n",
    "    mb = bytes / 1024**2\n",
    "    return mb\n",
    "\n",
    "#start To grab the initial memory\n",
    "start_memory = get_memory_usage(df_data)\n",
    "print(start_memory)\n",
    "#Log tranformation for tuning purposes\n",
    "#it is used when there's high skewness or tomuch outliers between featues and target or the relationship is non linear\n",
    "df_data['MedInc'] = np.log(df_data['MedInc'])\n",
    "bin = [0, 1, 3, 5, 6, np.inf]\n",
    "label = [0, 1, 2,3,4]\n",
    "df_data['MedInc'] = pd.cut(df_data['MedInc'], bins=bin, labels=label)\n",
    "print(df_data.head())"
   ],
   "outputs": [
    {
     "name": "stdout",
     "output_type": "stream",
     "text": [
      "   MedInc  HouseAge  AveRooms  AveBedrms  Population  AveOccup  Latitude  \\\n",
      "0  8.3252      41.0  6.984127    1.02381       322.0  2.555556     37.88   \n",
      "1  8.3014      21.0  6.238137    0.97188      2401.0  2.109842     37.86   \n",
      "\n",
      "   Longitude  \n",
      "0    -122.23  \n",
      "1    -122.22  \n",
      "____________\n",
      "1.2598915100097656\n",
      "     MedInc  HouseAge  AveRooms  AveBedrms  Population  AveOccup  Latitude  \\\n",
      "0  2.119287      41.0  6.984127   1.023810       322.0  2.555556     37.88   \n",
      "1  2.116424      21.0  6.238137   0.971880      2401.0  2.109842     37.86   \n",
      "2  1.982022      52.0  8.288136   1.073446       496.0  2.802260     37.85   \n",
      "3  1.730434      52.0  5.817352   1.073059       558.0  2.547945     37.85   \n",
      "4  1.347086      52.0  6.281853   1.081081       565.0  2.181467     37.85   \n",
      "\n",
      "   Longitude  \n",
      "0    -122.23  \n",
      "1    -122.22  \n",
      "2    -122.24  \n",
      "3    -122.25  \n",
      "4    -122.25  \n"
     ]
    }
   ],
   "execution_count": 7
  }
 ],
 "metadata": {
  "kernelspec": {
   "display_name": "Python 3",
   "language": "python",
   "name": "python3"
  },
  "language_info": {
   "codemirror_mode": {
    "name": "ipython",
    "version": 2
   },
   "file_extension": ".py",
   "mimetype": "text/x-python",
   "name": "python",
   "nbconvert_exporter": "python",
   "pygments_lexer": "ipython2",
   "version": "2.7.6"
  }
 },
 "nbformat": 4,
 "nbformat_minor": 5
}
