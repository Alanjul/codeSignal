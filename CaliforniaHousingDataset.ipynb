{
 "cells": [
  {
   "cell_type": "code",
   "id": "initial_id",
   "metadata": {
    "collapsed": true,
    "ExecuteTime": {
     "end_time": "2025-03-21T15:24:51.298220Z",
     "start_time": "2025-03-21T15:24:51.095065Z"
    }
   },
   "source": [
    "#Using sklearn to  load California housing Datasets\n",
    "from sklearn.datasets import fetch_california_housing\n",
    "data1 = fetch_california_housing() #the dataset includes data, target, feature_names ,\n",
    "#import pandas\n",
    "import pandas as pd\n",
    "#convert the data into pandas dataframa\n",
    "df = pd.DataFrame(data=data1.data, columns =data1.feature_names )\n",
    "df['MedianHousevalue'] = data1.target\n",
    "print(df.head())\n",
    "print(df.shape)\n",
    "print(df.describe()) #get descriptive statistics\n",
    "\n"
   ],
   "outputs": [
    {
     "name": "stdout",
     "output_type": "stream",
     "text": [
      "   MedInc  HouseAge  AveRooms  AveBedrms  Population  AveOccup  Latitude  \\\n",
      "0  8.3252      41.0  6.984127   1.023810       322.0  2.555556     37.88   \n",
      "1  8.3014      21.0  6.238137   0.971880      2401.0  2.109842     37.86   \n",
      "2  7.2574      52.0  8.288136   1.073446       496.0  2.802260     37.85   \n",
      "3  5.6431      52.0  5.817352   1.073059       558.0  2.547945     37.85   \n",
      "4  3.8462      52.0  6.281853   1.081081       565.0  2.181467     37.85   \n",
      "\n",
      "   Longitude  MedianHousevalue  \n",
      "0    -122.23             4.526  \n",
      "1    -122.22             3.585  \n",
      "2    -122.24             3.521  \n",
      "3    -122.25             3.413  \n",
      "4    -122.25             3.422  \n",
      "(20640, 9)\n",
      "             MedInc      HouseAge      AveRooms     AveBedrms    Population  \\\n",
      "count  20640.000000  20640.000000  20640.000000  20640.000000  20640.000000   \n",
      "mean       3.870671     28.639486      5.429000      1.096675   1425.476744   \n",
      "std        1.899822     12.585558      2.474173      0.473911   1132.462122   \n",
      "min        0.499900      1.000000      0.846154      0.333333      3.000000   \n",
      "25%        2.563400     18.000000      4.440716      1.006079    787.000000   \n",
      "50%        3.534800     29.000000      5.229129      1.048780   1166.000000   \n",
      "75%        4.743250     37.000000      6.052381      1.099526   1725.000000   \n",
      "max       15.000100     52.000000    141.909091     34.066667  35682.000000   \n",
      "\n",
      "           AveOccup      Latitude     Longitude  MedianHousevalue  \n",
      "count  20640.000000  20640.000000  20640.000000      20640.000000  \n",
      "mean       3.070655     35.631861   -119.569704          2.068558  \n",
      "std       10.386050      2.135952      2.003532          1.153956  \n",
      "min        0.692308     32.540000   -124.350000          0.149990  \n",
      "25%        2.429741     33.930000   -121.800000          1.196000  \n",
      "50%        2.818116     34.260000   -118.490000          1.797000  \n",
      "75%        3.282261     37.710000   -118.010000          2.647250  \n",
      "max     1243.333333     41.950000   -114.310000          5.000010  \n"
     ]
    }
   ],
   "execution_count": 1
  },
  {
   "metadata": {},
   "cell_type": "markdown",
   "source": [
    "medinc: This the median income for household with a block (scaled and capped at 15 for higher income earners and 0.5 for lower median incomes)\n",
    "HouseAge: The median house age within a block\n",
    "AveRooms: This is the average number of rooms in the houses within a block\n",
    "AveBedrms: This is the average number of bedrooms in the houses within a block\n",
    "population: this is the total population within a block\n",
    "AveOccup: average house occupancy. computed as the total population within a block divided by the number of households\n",
    "Latitude and Longitude: These are the geographic coordinates of the block groups\n",
    "MedianHouseValue:  Median house value for households within a block (measure in 10,000s"
   ],
   "id": "68ec8fd96b6fae10"
  },
  {
   "metadata": {
    "ExecuteTime": {
     "end_time": "2025-03-21T15:24:51.339292Z",
     "start_time": "2025-03-21T15:24:51.314293Z"
    }
   },
   "cell_type": "code",
   "source": [
    "#check for null values\n",
    "print(df.isnull().sum())\n",
    "#import numpy\n",
    "import numpy as np\n",
    "A = np.array([[9,8,7], [6,6,7], [9,10,12]])\n",
    "#find the inverse of B\n",
    "B = np.array([[1,2,3], [5,6,4], [8,9,11]])\n",
    "C = A + B\n",
    "print(C)\n",
    "F = np.linalg.inv(B)\n",
    "print(F)\n",
    "#finding pseudo inverse can be applied to any matrix even if it is not invertible\n",
    "fp = np.linalg.pinv(B)\n",
    "print(fp)\n",
    "\n",
    "E = A * B\n",
    "print(E)\n",
    "\n",
    "D = A -B\n",
    "print(D)\n",
    "\n",
    "print(\"Tranposing matrix B\",  np.transpose(B))\n",
    "\n",
    "print(\"Transpose of A\", A.T)"
   ],
   "id": "5b413b9c6e67b921",
   "outputs": [
    {
     "name": "stdout",
     "output_type": "stream",
     "text": [
      "MedInc              0\n",
      "HouseAge            0\n",
      "AveRooms            0\n",
      "AveBedrms           0\n",
      "Population          0\n",
      "AveOccup            0\n",
      "Latitude            0\n",
      "Longitude           0\n",
      "MedianHousevalue    0\n",
      "dtype: int64\n",
      "[[10 10 10]\n",
      " [11 12 11]\n",
      " [17 19 23]]\n",
      "[[-1.2  -0.2   0.4 ]\n",
      " [ 0.92  0.52 -0.44]\n",
      " [ 0.12 -0.28  0.16]]\n",
      "[[-1.2  -0.2   0.4 ]\n",
      " [ 0.92  0.52 -0.44]\n",
      " [ 0.12 -0.28  0.16]]\n",
      "[[  9  16  21]\n",
      " [ 30  36  28]\n",
      " [ 72  90 132]]\n",
      "[[8 6 4]\n",
      " [1 0 3]\n",
      " [1 1 1]]\n",
      "Tranposing matrix B [[ 1  5  8]\n",
      " [ 2  6  9]\n",
      " [ 3  4 11]]\n",
      "Transpose of A [[ 9  6  9]\n",
      " [ 8  6 10]\n",
      " [ 7  7 12]]\n"
     ]
    }
   ],
   "execution_count": 2
  },
  {
   "metadata": {
    "ExecuteTime": {
     "end_time": "2025-03-21T15:24:51.504141Z",
     "start_time": "2025-03-21T15:24:51.497120Z"
    }
   },
   "cell_type": "code",
   "source": [
    "#simulating preprocessing with slices\n",
    "feature_1 = np.array([[123], [671],[781]])\n",
    "feature_2 = np.array([[321],[654], [987]])\n",
    "#combine two features into one\n",
    "data_feature = np.hstack((feature_1, feature_2))\n",
    "print(data_feature)\n",
    "#normalize the data\n",
    "normalized_data = data_feature/np.linalg.norm(data_feature)\n",
    "print(normalized_data)\n",
    "\n",
    "#normalization with Min-max Normalization to get a range between 0 and 1\n",
    "normalized_date_minmax = (data_feature - np.min(data_feature))/(np.max(data_feature)- np.min(data_feature))\n",
    "print(normalized_date_minmax)\n",
    "\n",
    "#simulate the weights of features\n",
    "weights = np.array([0.4, 0.6])\n",
    "\n",
    "#calculate the weighted sum of the feature\n",
    "weighted_sum = np.dot(data_feature, weights)\n",
    "print(weighted_sum)"
   ],
   "id": "72eb05caf3d0a27f",
   "outputs": [
    {
     "name": "stdout",
     "output_type": "stream",
     "text": [
      "[[123 321]\n",
      " [671 654]\n",
      " [781 987]]\n",
      "[[0.07657264 0.19983592]\n",
      " [0.41772555 0.40714234]\n",
      " [0.48620515 0.61444876]]\n",
      "[[0.         0.22916667]\n",
      " [0.63425926 0.61458333]\n",
      " [0.76157407 1.        ]]\n",
      "[241.8 660.8 904.6]\n"
     ]
    }
   ],
   "execution_count": 3
  }
 ],
 "metadata": {
  "kernelspec": {
   "display_name": "Python 3",
   "language": "python",
   "name": "python3"
  },
  "language_info": {
   "codemirror_mode": {
    "name": "ipython",
    "version": 2
   },
   "file_extension": ".py",
   "mimetype": "text/x-python",
   "name": "python",
   "nbconvert_exporter": "python",
   "pygments_lexer": "ipython2",
   "version": "2.7.6"
  }
 },
 "nbformat": 4,
 "nbformat_minor": 5
}
