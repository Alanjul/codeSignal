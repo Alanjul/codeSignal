{
 "cells": [
  {
   "cell_type": "code",
   "id": "initial_id",
   "metadata": {
    "collapsed": true,
    "ExecuteTime": {
     "end_time": "2025-03-28T03:03:44.603964Z",
     "start_time": "2025-03-28T03:03:44.573647Z"
    }
   },
   "source": [
    "import pandas as pd\n",
    "import numpy as np\n",
    "\n",
    "#DNA Sequences for several genes\n",
    "data = {\n",
    "    \"Gene\" : [\"Gene A\", \"Gene B\", \"Gene C\",  \"Gene D\"],\n",
    "    \"Sequence\": [\"ATCGTACGA\", \"CGATCGATG\", \"TAGCTAG\", \"CGTAGCTA\"],\n",
    "    \"Discover_Date\": pd.date_range(\"01/01/1950\", periods=4),\n",
    "    \"Popularity_on_Social_Network\" : np.array([125, 500, 85, 200])\n",
    "}\n",
    "#convert it to pandas\n",
    "df_genes = pd.DataFrame(data)\n",
    "print(df_genes)\n",
    "#computing DNA Sequence length\n",
    "df_genes[\"Length\"] = df_genes[\"Sequence\"].apply(len)\n",
    "print(df_genes)\n",
    "#Reverse the dna sequence\n",
    "df_genes[\"Reverse_Sequence\"] =df_genes[\"Sequence\"].apply(lambda x : x[::-1].lower())\n",
    "print(df_genes)\n",
    "\n",
    "#finding the most popular gene\n",
    "popular_gene = df_genes.iloc[df_genes[\"Popularity_on_Social_Network\"].idxmax()]\n",
    "print(f\"The most popular genes is {popular_gene['Gene']}\")\n",
    "#Handling Large Datasets\n",
    "data2 = { \"Star_ID\" : np.arange(1,5),\n",
    "          \"Right_Ascension\" : [204.85,63.70,305.29,45.2],\n",
    "          \"Declination\": [-29.72, 38.03, -14.78, 7.8],\n",
    "          \"Magnitude\" : [2.04, 1.25, 3.17, 1.9],\n",
    "          #generate data of ranges with pandas\n",
    "          \"observation_Date\": pd.date_range(\"01/01/2020\", periods=4)\n",
    "\n",
    "}\n",
    "df_stars = pd.DataFrame(data2)\n",
    "print(df_stars)\n",
    "#filter out stars based on their magnitude\n",
    "filter_date = pd.to_datetime(\"2020-01-02\") #convert string into datetime object\n",
    "filtered_stars = df_stars[df_stars[\"observation_Date\"] > filter_date]\n",
    "print(filtered_stars)\n",
    "\n",
    "#Data analysis in social networks\n",
    "data3 = {\n",
    "    \"Person\" : [\"Alice\", \"Bob\", \"Charlie\", \"Dave\"],\n",
    "    \"Friends\" : [10,5,8,2],\n",
    "    \"Posts\" : [100,50,80,200]\n",
    "}\n",
    "df_social = pd.DataFrame(data3)\n",
    "print(df_social)\n",
    "\n",
    "#calculate the post per friend\n",
    "df_social[\"Posts_per_Friends\"] = df_social[\"Posts\"]/df_social[\"Friends\"]\n",
    "print(df_social)"
   ],
   "outputs": [
    {
     "name": "stdout",
     "output_type": "stream",
     "text": [
      "     Gene   Sequence Discover_Date  Popularity_on_Social_Network\n",
      "0  Gene A  ATCGTACGA    1950-01-01                           125\n",
      "1  Gene B  CGATCGATG    1950-01-02                           500\n",
      "2  Gene C    TAGCTAG    1950-01-03                            85\n",
      "3  Gene D   CGTAGCTA    1950-01-04                           200\n",
      "     Gene   Sequence Discover_Date  Popularity_on_Social_Network  Length\n",
      "0  Gene A  ATCGTACGA    1950-01-01                           125       9\n",
      "1  Gene B  CGATCGATG    1950-01-02                           500       9\n",
      "2  Gene C    TAGCTAG    1950-01-03                            85       7\n",
      "3  Gene D   CGTAGCTA    1950-01-04                           200       8\n",
      "     Gene   Sequence Discover_Date  Popularity_on_Social_Network  Length  \\\n",
      "0  Gene A  ATCGTACGA    1950-01-01                           125       9   \n",
      "1  Gene B  CGATCGATG    1950-01-02                           500       9   \n",
      "2  Gene C    TAGCTAG    1950-01-03                            85       7   \n",
      "3  Gene D   CGTAGCTA    1950-01-04                           200       8   \n",
      "\n",
      "  Reverse_Sequence  \n",
      "0        agcatgcta  \n",
      "1        gtagctagc  \n",
      "2          gatcgat  \n",
      "3         atcgatgc  \n",
      "The most popular genes is Gene B\n",
      "   Star_ID  Right_Ascension  Declination  Magnitude observation_Date\n",
      "0        1           204.85       -29.72       2.04       2020-01-01\n",
      "1        2            63.70        38.03       1.25       2020-01-02\n",
      "2        3           305.29       -14.78       3.17       2020-01-03\n",
      "3        4            45.20         7.80       1.90       2020-01-04\n",
      "   Star_ID  Right_Ascension  Declination  Magnitude observation_Date\n",
      "2        3           305.29       -14.78       3.17       2020-01-03\n",
      "3        4            45.20         7.80       1.90       2020-01-04\n",
      "    Person  Friends  Posts\n",
      "0    Alice       10    100\n",
      "1      Bob        5     50\n",
      "2  Charlie        8     80\n",
      "3     Dave        2    200\n",
      "    Person  Friends  Posts  Posts_per_Friends\n",
      "0    Alice       10    100               10.0\n",
      "1      Bob        5     50               10.0\n",
      "2  Charlie        8     80               10.0\n",
      "3     Dave        2    200              100.0\n"
     ]
    }
   ],
   "execution_count": 11
  },
  {
   "metadata": {
    "ExecuteTime": {
     "end_time": "2025-03-28T03:03:44.614810Z",
     "start_time": "2025-03-28T03:03:44.611362Z"
    }
   },
   "cell_type": "code",
   "source": "",
   "id": "312a91c0a789ab83",
   "outputs": [],
   "execution_count": null
  }
 ],
 "metadata": {
  "kernelspec": {
   "display_name": "Python 3",
   "language": "python",
   "name": "python3"
  },
  "language_info": {
   "codemirror_mode": {
    "name": "ipython",
    "version": 2
   },
   "file_extension": ".py",
   "mimetype": "text/x-python",
   "name": "python",
   "nbconvert_exporter": "python",
   "pygments_lexer": "ipython2",
   "version": "2.7.6"
  }
 },
 "nbformat": 4,
 "nbformat_minor": 5
}
